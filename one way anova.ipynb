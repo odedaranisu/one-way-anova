{
  "nbformat": 4,
  "nbformat_minor": 0,
  "metadata": {
    "colab": {
      "provenance": []
    },
    "kernelspec": {
      "name": "python3",
      "display_name": "Python 3"
    },
    "language_info": {
      "name": "python"
    }
  },
  "cells": [
    {
      "cell_type": "code",
      "execution_count": 1,
      "metadata": {
        "id": "fP7IPlEdf0b5",
        "colab": {
          "base_uri": "https://localhost:8080/",
          "height": 646
        },
        "outputId": "cde8c8c1-e9ca-4366-f37b-2479da2b2744"
      },
      "outputs": [
        {
          "output_type": "stream",
          "name": "stdout",
          "text": [
            "               A          B          C          D\n",
            "count   5.000000   5.000000   5.000000   5.000000\n",
            "mean   29.600000  45.000000  31.200000  60.000000\n",
            "std     4.037326  11.202678   3.898718   8.514693\n",
            "min    25.000000  29.000000  27.000000  51.000000\n",
            "25%    28.000000  40.000000  29.000000  54.000000\n",
            "50%    29.000000  45.000000  30.000000  60.000000\n",
            "75%    30.000000  55.000000  33.000000  62.000000\n",
            "max    36.000000  56.000000  37.000000  73.000000\n"
          ]
        },
        {
          "output_type": "execute_result",
          "data": {
            "text/plain": [
              "Text(0, 0.5, 'Score')"
            ]
          },
          "metadata": {},
          "execution_count": 1
        },
        {
          "output_type": "display_data",
          "data": {
            "text/plain": [
              "<Figure size 640x480 with 1 Axes>"
            ],
            "image/png": "[encoded data removed]"
          },
          "metadata": {}
        }
      ],
      "source": [
        "#one way anova\n",
        "#descriptive statics and boxplot for the dataset\n",
        "import pandas as pd\n",
        "from matplotlib import pyplot as plt\n",
        "\n",
        "dataset = pd.read_excel(\"score.xlsx\")\n",
        "print(dataset.describe())\n",
        "\n",
        "dataset.boxplot(column=['A', 'B', 'C', 'D'], grid=False)\n",
        "plt.title(\"Subject Scores\")\n",
        "plt.xlabel(\"Subjects\")\n",
        "plt.ylabel(\"Score\")\n",
        "\n"
      ]
    },
    {
      "cell_type": "code",
      "source": [
        "#compare the means of Subjects A, B, C, and D.\n",
        "#one way annova testing for scorexlx\n",
        "import pandas as pd\n",
        "import scipy.stats as stats\n",
        "\n",
        "dataset = pd.read_excel(\"score.xlsx\")\n",
        "fvalue, pvalue = stats.f_oneway(dataset[\"A\"], dataset[\"B\"],dataset[\"C\"], dataset[\"D\"])\n",
        "print(\"F Value  = {:g} \".format(fvalue))\n",
        "print(\"P Value  = {:g} \".format(pvalue))\n"
      ],
      "metadata": {
        "colab": {
          "base_uri": "https://localhost:8080/"
        },
        "id": "We2hu0Bf_7U4",
        "outputId": "3a2da0ff-f84c-4fe6-8c88-34c98c4c563a"
      },
      "execution_count": 2,
      "outputs": [
        {
          "output_type": "stream",
          "name": "stdout",
          "text": [
            "F Value  = 17.4928 \n",
            "P Value  = 2.63924e-05 \n"
          ]
        }
      ]
    },
    {
      "cell_type": "code",
      "source": [
        "#automate conclusion\n",
        "import pandas as pd\n",
        "import scipy.stats as stats\n",
        "\n",
        "dataset = pd.read_excel(\"score.xlsx\")\n",
        "fvalue, pvalue = stats.f_oneway(dataset[\"A\"], dataset[\"B\"],dataset[\"C\"], dataset[\"D\"])\n",
        "print(\"F Value  = {:g} \".format(fvalue))\n",
        "print(\"P Value  = {:g} \".format(pvalue))\n",
        "\n",
        "alpha = 0.05\n",
        "\n",
        "if pvalue < alpha:  # null hypothesis: x comes from a normal distribution\n",
        "    print(\"The null hypothesis can be rejected\")\n",
        "else:\n",
        "    print(\"The null hypothesis is accepted\")\n"
      ],
      "metadata": {
        "colab": {
          "base_uri": "https://localhost:8080/"
        },
        "id": "omjbC3r-A0ng",
        "outputId": "798db5d7-c611-49dd-a1f7-fe1fb441e9ca"
      },
      "execution_count": 3,
      "outputs": [
        {
          "output_type": "stream",
          "name": "stdout",
          "text": [
            "F Value  = 17.4928 \n",
            "P Value  = 2.63924e-05 \n",
            "The null hypothesis can be rejected\n"
          ]
        }
      ]
    },
    {
      "cell_type": "code",
      "source": [
        "#one way anova\n",
        "#Conduct descriptive statistical analysis on dataset in iris.csv\n",
        "import pandas as pd\n",
        "import scipy.stats as stats\n",
        "\n",
        "dataset = pd.read_csv(\"iris.csv\")\n",
        "groupby_name = dataset.groupby('name')\n",
        "print(groupby_name.head())\n",
        "print(groupby_name['petal_width'].describe())\n",
        "print(\"\\n\")\n",
        "print(\"\\n\")\n",
        "\n",
        "df=groupby_name.describe()\n",
        "df_transposed = df.T\n",
        "print(df_transposed)\n"
      ],
      "metadata": {
        "colab": {
          "base_uri": "https://localhost:8080/"
        },
        "id": "ObT6t5wEBQii",
        "outputId": "cc82883b-d4be-4210-d287-f9bd536e6c50"
      },
      "execution_count": 5,
      "outputs": [
        {
          "output_type": "stream",
          "name": "stdout",
          "text": [
            "     sepal_length  sepal_width  petal_length  petal_width        name\n",
            "0             5.1          3.5           1.4          0.2      setosa\n",
            "1             4.9          3.0           1.4          0.2      setosa\n",
            "2             4.7          3.2           1.3          0.2      setosa\n",
            "3             4.6          3.1           1.5          0.2      setosa\n",
            "4             5.0          3.6           1.4          0.2      setosa\n",
            "50            7.0          3.2           4.7          1.4  versicolor\n",
            "51            6.4          3.2           4.5          1.5  versicolor\n",
            "52            6.9          3.1           4.9          1.5  versicolor\n",
            "53            5.5          2.3           4.0          1.3  versicolor\n",
            "54            6.5          2.8           4.6          1.5  versicolor\n",
            "100           6.3          3.3           6.0          2.5   virginica\n",
            "101           5.8          2.7           5.1          1.9   virginica\n",
            "102           7.1          3.0           5.9          2.1   virginica\n",
            "103           6.3          2.9           5.6          1.8   virginica\n",
            "104           6.5          3.0           5.8          2.2   virginica\n",
            "            count   mean       std  min  25%  50%  75%  max\n",
            "name                                                       \n",
            "setosa       50.0  0.244  0.107210  0.1  0.2  0.2  0.3  0.6\n",
            "versicolor   50.0  1.326  0.197753  1.0  1.2  1.3  1.5  1.8\n",
            "virginica    50.0  2.026  0.274650  1.4  1.8  2.0  2.3  2.5\n",
            "\n",
            "\n",
            "\n",
            "\n",
            "name                   setosa  versicolor  virginica\n",
            "sepal_length count  50.000000   50.000000  50.000000\n",
            "             mean    5.006000    5.936000   6.588000\n",
            "             std     0.352490    0.516171   0.635880\n",
            "             min     4.300000    4.900000   4.900000\n",
            "             25%     4.800000    5.600000   6.225000\n",
            "             50%     5.000000    5.900000   6.500000\n",
            "             75%     5.200000    6.300000   6.900000\n",
            "             max     5.800000    7.000000   7.900000\n",
            "sepal_width  count  50.000000   50.000000  50.000000\n",
            "             mean    3.418000    2.770000   2.974000\n",
            "             std     0.381024    0.313798   0.322497\n",
            "             min     2.300000    2.000000   2.200000\n",
            "             25%     3.125000    2.525000   2.800000\n",
            "             50%     3.400000    2.800000   3.000000\n",
            "             75%     3.675000    3.000000   3.175000\n",
            "             max     4.400000    3.400000   3.800000\n",
            "petal_length count  50.000000   50.000000  50.000000\n",
            "             mean    1.464000    4.260000   5.552000\n",
            "             std     0.173511    0.469911   0.551895\n",
            "             min     1.000000    3.000000   4.500000\n",
            "             25%     1.400000    4.000000   5.100000\n",
            "             50%     1.500000    4.350000   5.550000\n",
            "             75%     1.575000    4.600000   5.875000\n",
            "             max     1.900000    5.100000   6.900000\n",
            "petal_width  count  50.000000   50.000000  50.000000\n",
            "             mean    0.244000    1.326000   2.026000\n",
            "             std     0.107210    0.197753   0.274650\n",
            "             min     0.100000    1.000000   1.400000\n",
            "             25%     0.200000    1.200000   1.800000\n",
            "             50%     0.200000    1.300000   2.000000\n",
            "             75%     0.300000    1.500000   2.300000\n",
            "             max     0.600000    1.800000   2.500000\n"
          ]
        }
      ]
    },
    {
      "cell_type": "code",
      "source": [
        "#test whether there is any significant difference in the mean of petal width for all the three types of irises\n",
        "#one way annove-type 1\n",
        "import pandas as pd\n",
        "import scipy.stats as stats\n",
        "\n",
        "df = pd.read_csv(\"iris.csv\")\n",
        "fvalue, pvalue = stats.f_oneway(df['petal_width'][df['name'] == 'setosa'],\n",
        "                                df['petal_width'][df['name'] == 'versicolor'],\n",
        "                                df['petal_width'][df['name'] == 'virginica'])\n",
        "print(\"F Value  = {:g} \".format(fvalue))\n",
        "print(\"P Value  = {:g} \".format(pvalue))\n"
      ],
      "metadata": {
        "colab": {
          "base_uri": "https://localhost:8080/"
        },
        "id": "hf9aEO7CB7qL",
        "outputId": "f5a57291-1367-4f75-f926-51bc483933b0"
      },
      "execution_count": 6,
      "outputs": [
        {
          "output_type": "stream",
          "name": "stdout",
          "text": [
            "F Value  = 959.324 \n",
            "P Value  = 4.37696e-85 \n"
          ]
        }
      ]
    },
    {
      "cell_type": "code",
      "source": [
        "#store in a array\n",
        "import pandas as pd\n",
        "import scipy.stats as stats\n",
        "\n",
        "df = pd.read_csv(\"iris.csv\")\n",
        "df2 =(df['petal_width'][df['name'] == 'setosa'],\n",
        "                       df['petal_width'][df['name'] == 'versicolor'],\n",
        "                       df['petal_width'][df['name'] == 'virginica'])\n",
        "fvalue, pvalue = stats.f_oneway(df2[0], df2[1], df2[2])\n",
        "print(\"F Value  = {:g} \".format(fvalue))\n",
        "print(\"P Value  = {:g} \".format(pvalue))\n"
      ],
      "metadata": {
        "colab": {
          "base_uri": "https://localhost:8080/"
        },
        "id": "rw7FtVMgCIik",
        "outputId": "2e574e31-21c6-4da6-9c4f-a809273d4ed4"
      },
      "execution_count": 7,
      "outputs": [
        {
          "output_type": "stream",
          "name": "stdout",
          "text": [
            "F Value  = 959.324 \n",
            "P Value  = 4.37696e-85 \n"
          ]
        }
      ]
    },
    {
      "cell_type": "code",
      "source": [
        "#one way anova table\n",
        "#https://www.statsmodels.org/stable/examples/notebooks/generated/interactions_anova.html\n",
        "import pandas as pd\n",
        "import scipy.stats as stats\n",
        "from matplotlib import pyplot as plt\n",
        "import statsmodels.api as sm\n",
        "from statsmodels.formula.api import ols\n",
        "from statsmodels.stats.anova import anova_lm\n",
        "\n",
        "dataset = pd.read_csv(\"rehab.csv\")\n",
        "\n",
        "#Plot box plots grouped by Fitness - Groups 1, 2, 3\n",
        "fig, ax = plt.subplots(figsize=(8,6))\n",
        "fig = dataset.boxplot('Time', 'Fitness', ax = ax, grid=False)\n",
        "\n",
        "#Sum of Square\n",
        "sum_lm = ols('Time ~ Fitness', data=dataset).fit()\n",
        "\n",
        "print(anova_lm(sum_lm))\n",
        "print(anova_lm(sum_lm, typ=2))\n",
        "print(anova_lm(sum_lm, typ=3))\n"
      ],
      "metadata": {
        "colab": {
          "base_uri": "https://localhost:8080/",
          "height": 752
        },
        "id": "TS5E-D5cCaZl",
        "outputId": "7fabca43-2195-4579-eebb-ab28171f6508"
      },
      "execution_count": 9,
      "outputs": [
        {
          "output_type": "stream",
          "name": "stdout",
          "text": [
            "            df      sum_sq     mean_sq          F    PR(>F)\n",
            "Fitness    1.0  666.216867  666.216867  34.749543  0.000006\n",
            "Residual  22.0  421.783133   19.171961        NaN       NaN\n",
            "              sum_sq    df          F    PR(>F)\n",
            "Fitness   666.216867   1.0  34.749543  0.000006\n",
            "Residual  421.783133  22.0        NaN       NaN\n",
            "                sum_sq    df           F        PR(>F)\n",
            "Intercept  6679.707064   1.0  348.410223  5.611672e-15\n",
            "Fitness     666.216867   1.0   34.749543  6.230589e-06\n",
            "Residual    421.783133  22.0         NaN           NaN\n"
          ]
        },
        {
          "output_type": "display_data",
          "data": {
            "text/plain": [
              "<Figure size 800x600 with 1 Axes>"
            ],
            "image/png": "[encoded data removed]"
          },
          "metadata": {}
        }
      ]
    },
    {
      "cell_type": "code",
      "source": [],
      "metadata": {
        "id": "Z4pfz3CrCjyX"
      },
      "execution_count": null,
      "outputs": []
    }
  ]
}